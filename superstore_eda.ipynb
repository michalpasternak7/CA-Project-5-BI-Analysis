{
 "cells": [
  {
   "cell_type": "markdown",
   "metadata": {},
   "source": [
    "# e-Commerce EDA"
   ]
  },
  {
   "cell_type": "code",
   "execution_count": 88,
   "metadata": {},
   "outputs": [],
   "source": [
    "# Imoports\n",
    "import pandas as pd\n",
    "import sqlite3"
   ]
  },
  {
   "cell_type": "code",
   "execution_count": 89,
   "metadata": {},
   "outputs": [],
   "source": [
    "# Connect SQLite database.\n",
    "db_conn = sqlite3.connect(\"SuperstoreDB/superstore.db\")"
   ]
  },
  {
   "cell_type": "markdown",
   "metadata": {},
   "source": [
    "This week you'll work on the e-commerce EDA using Python. **You will use a Python SQL connector to perform queries on your newly created database.**\n",
    "\n",
    "This is your third EDA, so we are confident you can do this easily. This time also, you will create a report at the end of the project that will be presented to the management team of 'VS Group.' They would like to see how much you have understood the e-commerce business and your data analysis keeping in mind all the KPIs.\n",
    "\n"
   ]
  },
  {
   "cell_type": "markdown",
   "metadata": {},
   "source": [
    "## Epic 1: Exploratory Data Analysis\n",
    "There are plenty of insights you can deduce from this dataset. Try to look for some these insights yourself. As a starting point, here are some ideas that you could present to the team:\n",
    "\n",
    "- What customer purchasing patterns can you deduce? Such as during the days of the week, weekly, monthly, quarterly, yearly, etc.\n",
    "\n",
    "- Are there specific days/months/quarters when the sales have been unusually high/low, and what could be the possible reasons? How about the profit and loss margin?\n",
    "\n",
    "- Which states and which customers made the highest number of orders? Are they the same as the highest spending states and customers?\n",
    "\n",
    "- Can you make a map showing the 5 states generating the most and least sales revenue?\n",
    "\n",
    "- Can we see the quarterly revenue behavior?\n",
    "\n",
    "- Can you create a plot showing the growth rate of new customers over the months?\n",
    "\n",
    "- What do you think about the customers? Are they individuals or wholesalers? Why would you say so?\n",
    "\n",
    "- Are there any issues with the dataset?\n",
    "\n",
    "**You don't have to create all these plots. Choose the most relevant ones for your analysis.**\n",
    "\n",
    "**Optional: make a small selection of the plots and try to present them as Plotly-Express animations. Please remember that the most important thing is to make a good analysis, independent of which library you use to create your graphs.**\n"
   ]
  },
  {
   "cell_type": "code",
   "execution_count": null,
   "metadata": {},
   "outputs": [],
   "source": []
  }
 ],
 "metadata": {
  "language_info": {
   "name": "python"
  }
 },
 "nbformat": 4,
 "nbformat_minor": 2
}
