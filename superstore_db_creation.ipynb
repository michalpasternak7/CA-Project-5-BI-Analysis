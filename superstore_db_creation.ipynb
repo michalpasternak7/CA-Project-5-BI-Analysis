{
 "cells": [
  {
   "cell_type": "code",
   "execution_count": 1,
   "metadata": {},
   "outputs": [],
   "source": [
    "# Imoports\n",
    "import pandas as pd\n",
    "import sqlite3\n",
    "from pathlib import Path"
   ]
  },
  {
   "cell_type": "markdown",
   "metadata": {},
   "source": [
    "# Load the CSVs"
   ]
  },
  {
   "cell_type": "code",
   "execution_count": 2,
   "metadata": {},
   "outputs": [],
   "source": [
    "# Directory containing CSV files\n",
    "directory = Path('SuperstoreTables')\n",
    "\n",
    "# Filter CSV files\n",
    "csv_files = directory.glob('*.csv')\n",
    "\n",
    "# Read each CSV file\n",
    "table_names = []\n",
    "dfs = []\n",
    "\n",
    "for file in csv_files:\n",
    "    table_name = file.stem.split('/')[0]  # Extract the table name\n",
    "    df = pd.read_csv(file)\n",
    "\n",
    "    table_names.append(table_name)\n",
    "    dfs.append(df)"
   ]
  },
  {
   "cell_type": "code",
   "execution_count": 3,
   "metadata": {},
   "outputs": [],
   "source": [
    "# Remove spaces and dashes from column names to fit names used in db later.\n",
    "for df in dfs:\n",
    "    df.columns = [col.replace(' ', '').replace('-', '') for col in df.columns]"
   ]
  },
  {
   "cell_type": "code",
   "execution_count": 4,
   "metadata": {},
   "outputs": [],
   "source": [
    "# Create a dictionary where table_name : df\n",
    "table_dict = {table_names[i]: dfs[i] for i in range(len(table_names))}"
   ]
  },
  {
   "cell_type": "markdown",
   "metadata": {},
   "source": [
    "# Create the DB"
   ]
  },
  {
   "cell_type": "code",
   "execution_count": 5,
   "metadata": {},
   "outputs": [],
   "source": [
    "# Make path for the DBs\n",
    "path = 'SuperstoreDB'\n",
    "Path(path).mkdir(exist_ok=True)"
   ]
  },
  {
   "cell_type": "code",
   "execution_count": 6,
   "metadata": {},
   "outputs": [],
   "source": [
    "# Initiate a new SQLite database connection object.\n",
    "db_conn = sqlite3.connect(f\"{path}/superstore.db\")"
   ]
  },
  {
   "cell_type": "code",
   "execution_count": 7,
   "metadata": {},
   "outputs": [],
   "source": [
    "# Establish a cursor object, which is a tool that executes SQL code against the database of interest.\n",
    "c = db_conn.cursor()"
   ]
  },
  {
   "cell_type": "code",
   "execution_count": 8,
   "metadata": {},
   "outputs": [
    {
     "data": {
      "text/plain": [
       "<sqlite3.Cursor at 0x12c09b040>"
      ]
     },
     "execution_count": 8,
     "metadata": {},
     "output_type": "execute_result"
    }
   ],
   "source": [
    "# Products\n",
    "c.execute(\n",
    "    \"\"\"\n",
    "    CREATE TABLE Products (\n",
    "        ProductID TEXT NOT NULL,\n",
    "        ProductName TEXT NOT NULL,\n",
    "        Category TEXT NOT NULL,\n",
    "        SubCategory TEXT NOT NULL,\n",
    "        PRIMARY KEY (ProductID)\n",
    "        ); \n",
    "\"\"\")\n",
    "\n",
    "# Customers\n",
    "c.execute(\n",
    "    \"\"\"\n",
    "    CREATE TABLE Customers (\n",
    "        CustomerID TEXT NOT NULL,\n",
    "        CustomerName TEXT NOT NULL,\n",
    "        Segment TEXT NOT NULL,\n",
    "        PRIMARY KEY (CustomerID)\n",
    "        ); \n",
    "\n",
    "\"\"\")\n",
    "\n",
    "# Addresses\n",
    "c.execute(\n",
    "    \"\"\"\n",
    "    CREATE TABLE Addresses (\n",
    "        AddressID TEXT NOT NULL,\n",
    "        PostalCode TEXT NOT NULL,\n",
    "        City TEXT NOT NULL,\n",
    "        State TEXT,\n",
    "        Region TEXT,\n",
    "        Country TEXT NOT NULL,\n",
    "        PRIMARY KEY (AddressID)\n",
    "        ); \n",
    "\"\"\")\n",
    "\n",
    "# Orders\n",
    "c.execute(\n",
    "    \"\"\"\n",
    "    CREATE TABLE Orders (\n",
    "        OrderID TEXT NOT NULL,\n",
    "        OrderDate TEXT NOT NULL,\n",
    "        ShipDate TEXT NOT NULL,\n",
    "        ShipMode TEXT NOT NULL,\n",
    "        CustomerID  TEXT NOT NULL,\n",
    "        AddressID TEXT NOT NULL,\n",
    "        PRIMARY KEY (OrderID)\n",
    "        FOREIGN KEY(CustomerID) REFERENCES Customers(CustomerID)\n",
    "        FOREIGN KEY(AddressID) REFERENCES Addresses(AddressID)\n",
    "        ); \n",
    "\"\"\")\n",
    "\n",
    "# OrdersDetails\n",
    "c.execute(\n",
    "    \"\"\"\n",
    "    CREATE TABLE OrdersDetails (\n",
    "        OrderID TEXT NOT NULL,\n",
    "        ProductID TEXT NOT NULL,\n",
    "        Sales REAL NOT NULL,\n",
    "        Quantity INTEGER NOT NULL,\n",
    "        Discount REAL NOT NULL,\n",
    "        Profit REAL NOT NULL,\n",
    "        PRIMARY KEY (OrderID, ProductID)\n",
    "        FOREIGN KEY(OrderID) REFERENCES Orders(OrderID)\n",
    "        FOREIGN KEY(ProductID) REFERENCES Products(ProductID)\n",
    "        ); \n",
    "\"\"\")"
   ]
  },
  {
   "cell_type": "markdown",
   "metadata": {},
   "source": [
    "# Load the Data from CSVs to the DB"
   ]
  },
  {
   "cell_type": "code",
   "execution_count": 9,
   "metadata": {},
   "outputs": [
    {
     "name": "stdout",
     "output_type": "stream",
     "text": [
      "Uploading data for: Addresses\n",
      "Uploading data for: OrdersDetails\n",
      "Uploading data for: Customers\n",
      "Uploading data for: Products\n",
      "Uploading data for: Orders\n"
     ]
    }
   ],
   "source": [
    "for table_name in  table_dict:\n",
    "    print(f\"Uploading data for: {table_name}\")\n",
    "    table_dict[table_name].to_sql(table_name, db_conn, if_exists='append', index=False)"
   ]
  },
  {
   "cell_type": "code",
   "execution_count": 10,
   "metadata": {},
   "outputs": [
    {
     "data": {
      "text/html": [
       "<div>\n",
       "<style scoped>\n",
       "    .dataframe tbody tr th:only-of-type {\n",
       "        vertical-align: middle;\n",
       "    }\n",
       "\n",
       "    .dataframe tbody tr th {\n",
       "        vertical-align: top;\n",
       "    }\n",
       "\n",
       "    .dataframe thead th {\n",
       "        text-align: right;\n",
       "    }\n",
       "</style>\n",
       "<table border=\"1\" class=\"dataframe\">\n",
       "  <thead>\n",
       "    <tr style=\"text-align: right;\">\n",
       "      <th></th>\n",
       "      <th>OrderID</th>\n",
       "      <th>OrderDate</th>\n",
       "      <th>ShipDate</th>\n",
       "      <th>ShipMode</th>\n",
       "      <th>CustomerID</th>\n",
       "      <th>AddressID</th>\n",
       "    </tr>\n",
       "  </thead>\n",
       "  <tbody>\n",
       "    <tr>\n",
       "      <th>0</th>\n",
       "      <td>CA-2016-152156</td>\n",
       "      <td>2016-11-08</td>\n",
       "      <td>2016-11-11</td>\n",
       "      <td>Second Class</td>\n",
       "      <td>CG-12520</td>\n",
       "      <td>42420-000001</td>\n",
       "    </tr>\n",
       "    <tr>\n",
       "      <th>1</th>\n",
       "      <td>CA-2016-138688</td>\n",
       "      <td>2016-06-12</td>\n",
       "      <td>2016-06-16</td>\n",
       "      <td>Second Class</td>\n",
       "      <td>DV-13045</td>\n",
       "      <td>90036-000001</td>\n",
       "    </tr>\n",
       "    <tr>\n",
       "      <th>2</th>\n",
       "      <td>US-2015-108966</td>\n",
       "      <td>2015-10-11</td>\n",
       "      <td>2015-10-18</td>\n",
       "      <td>Standard Class</td>\n",
       "      <td>SO-20335</td>\n",
       "      <td>33311-000001</td>\n",
       "    </tr>\n",
       "    <tr>\n",
       "      <th>3</th>\n",
       "      <td>CA-2014-115812</td>\n",
       "      <td>2014-06-09</td>\n",
       "      <td>2014-06-14</td>\n",
       "      <td>Standard Class</td>\n",
       "      <td>BH-11710</td>\n",
       "      <td>90032-000001</td>\n",
       "    </tr>\n",
       "    <tr>\n",
       "      <th>4</th>\n",
       "      <td>CA-2017-114412</td>\n",
       "      <td>2017-04-15</td>\n",
       "      <td>2017-04-20</td>\n",
       "      <td>Standard Class</td>\n",
       "      <td>AA-10480</td>\n",
       "      <td>28027-000001</td>\n",
       "    </tr>\n",
       "  </tbody>\n",
       "</table>\n",
       "</div>"
      ],
      "text/plain": [
       "          OrderID   OrderDate    ShipDate        ShipMode CustomerID  \\\n",
       "0  CA-2016-152156  2016-11-08  2016-11-11    Second Class   CG-12520   \n",
       "1  CA-2016-138688  2016-06-12  2016-06-16    Second Class   DV-13045   \n",
       "2  US-2015-108966  2015-10-11  2015-10-18  Standard Class   SO-20335   \n",
       "3  CA-2014-115812  2014-06-09  2014-06-14  Standard Class   BH-11710   \n",
       "4  CA-2017-114412  2017-04-15  2017-04-20  Standard Class   AA-10480   \n",
       "\n",
       "      AddressID  \n",
       "0  42420-000001  \n",
       "1  90036-000001  \n",
       "2  33311-000001  \n",
       "3  90032-000001  \n",
       "4  28027-000001  "
      ]
     },
     "execution_count": 10,
     "metadata": {},
     "output_type": "execute_result"
    }
   ],
   "source": [
    "# Make a test query\n",
    "pd.read_sql(\"SELECT * FROM Orders LIMIT 5\", db_conn)"
   ]
  },
  {
   "cell_type": "code",
   "execution_count": 11,
   "metadata": {},
   "outputs": [],
   "source": [
    "# Close the db connection.\n",
    "db_conn.close()"
   ]
  }
 ],
 "metadata": {
  "kernelspec": {
   "display_name": "base",
   "language": "python",
   "name": "python3"
  },
  "language_info": {
   "codemirror_mode": {
    "name": "ipython",
    "version": 3
   },
   "file_extension": ".py",
   "mimetype": "text/x-python",
   "name": "python",
   "nbconvert_exporter": "python",
   "pygments_lexer": "ipython3",
   "version": "3.11.5"
  }
 },
 "nbformat": 4,
 "nbformat_minor": 2
}
